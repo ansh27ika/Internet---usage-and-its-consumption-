{
 "cells": [
  {
   "cell_type": "markdown",
   "id": "b1870de2",
   "metadata": {},
   "source": [
    "## Importing libraries"
   ]
  },
  {
   "cell_type": "code",
   "execution_count": 2,
   "id": "ceed42ca",
   "metadata": {},
   "outputs": [],
   "source": [
    "import pandas as pd\n",
    "import numpy as np\n",
    "import matplotlib.pyplot as plt\n",
    "import seaborn as sns"
   ]
  },
  {
   "cell_type": "markdown",
   "id": "64941bea",
   "metadata": {},
   "source": [
    "## Dataset"
   ]
  },
  {
   "cell_type": "code",
   "execution_count": 3,
   "id": "9e84b3e3",
   "metadata": {},
   "outputs": [],
   "source": [
    "data1=pd.read_csv(\"broadband-penetration-by-country.csv\")\n",
    "data2=pd.read_csv(\"mobile-cellular-subscriptions-per-100-people.csv\")\n",
    "data3=pd.read_csv(\"share-of-individuals-using-the-internet.csv\")\n",
    "data4=pd.read_csv(\"number-of-internet-users-by-country.csv\")"
   ]
  },
  {
   "cell_type": "markdown",
   "id": "9e0e63d7",
   "metadata": {},
   "source": [
    "## Concatinating the all 4  datasets"
   ]
  },
  {
   "cell_type": "code",
   "execution_count": 4,
   "id": "4eb594bd",
   "metadata": {},
   "outputs": [],
   "source": [
    "final=pd.concat([data1,data2,data3,data4], axis=0)"
   ]
  },
  {
   "cell_type": "markdown",
   "id": "c30f083c",
   "metadata": {},
   "source": [
    "## Statistics "
   ]
  },
  {
   "cell_type": "code",
   "execution_count": 5,
   "id": "76c1de36",
   "metadata": {},
   "outputs": [
    {
     "data": {
      "text/html": [
       "<div>\n",
       "<style scoped>\n",
       "    .dataframe tbody tr th:only-of-type {\n",
       "        vertical-align: middle;\n",
       "    }\n",
       "\n",
       "    .dataframe tbody tr th {\n",
       "        vertical-align: top;\n",
       "    }\n",
       "\n",
       "    .dataframe thead th {\n",
       "        text-align: right;\n",
       "    }\n",
       "</style>\n",
       "<table border=\"1\" class=\"dataframe\">\n",
       "  <thead>\n",
       "    <tr style=\"text-align: right;\">\n",
       "      <th></th>\n",
       "      <th>Year</th>\n",
       "      <th>Fixed broadband subscriptions (per 100 people)</th>\n",
       "      <th>Mobile cellular subscriptions (per 100 people)</th>\n",
       "      <th>Individuals using the Internet (% of population)</th>\n",
       "      <th>Number of internet users (OWID based on WB &amp; UN)</th>\n",
       "    </tr>\n",
       "  </thead>\n",
       "  <tbody>\n",
       "    <tr>\n",
       "      <th>count</th>\n",
       "      <td>27725.000000</td>\n",
       "      <td>4175.000000</td>\n",
       "      <td>11895.000000</td>\n",
       "      <td>7119.000000</td>\n",
       "      <td>4.536000e+03</td>\n",
       "    </tr>\n",
       "    <tr>\n",
       "      <th>mean</th>\n",
       "      <td>2001.212047</td>\n",
       "      <td>9.318944</td>\n",
       "      <td>30.839729</td>\n",
       "      <td>20.958204</td>\n",
       "      <td>1.363695e+07</td>\n",
       "    </tr>\n",
       "    <tr>\n",
       "      <th>std</th>\n",
       "      <td>12.568973</td>\n",
       "      <td>11.919007</td>\n",
       "      <td>47.433838</td>\n",
       "      <td>27.437190</td>\n",
       "      <td>1.233676e+08</td>\n",
       "    </tr>\n",
       "    <tr>\n",
       "      <th>min</th>\n",
       "      <td>1960.000000</td>\n",
       "      <td>0.000000</td>\n",
       "      <td>0.000000</td>\n",
       "      <td>0.000000</td>\n",
       "      <td>0.000000e+00</td>\n",
       "    </tr>\n",
       "    <tr>\n",
       "      <th>25%</th>\n",
       "      <td>1994.000000</td>\n",
       "      <td>0.283430</td>\n",
       "      <td>0.000000</td>\n",
       "      <td>0.162518</td>\n",
       "      <td>2.507000e+04</td>\n",
       "    </tr>\n",
       "    <tr>\n",
       "      <th>50%</th>\n",
       "      <td>2004.000000</td>\n",
       "      <td>3.232097</td>\n",
       "      <td>0.365290</td>\n",
       "      <td>6.074087</td>\n",
       "      <td>2.833990e+05</td>\n",
       "    </tr>\n",
       "    <tr>\n",
       "      <th>75%</th>\n",
       "      <td>2011.000000</td>\n",
       "      <td>15.187406</td>\n",
       "      <td>58.234904</td>\n",
       "      <td>35.864362</td>\n",
       "      <td>2.916425e+06</td>\n",
       "    </tr>\n",
       "    <tr>\n",
       "      <th>max</th>\n",
       "      <td>2019.000000</td>\n",
       "      <td>62.280620</td>\n",
       "      <td>345.324522</td>\n",
       "      <td>99.701504</td>\n",
       "      <td>3.419398e+09</td>\n",
       "    </tr>\n",
       "  </tbody>\n",
       "</table>\n",
       "</div>"
      ],
      "text/plain": [
       "               Year  Fixed broadband subscriptions (per 100 people)  \\\n",
       "count  27725.000000                                     4175.000000   \n",
       "mean    2001.212047                                        9.318944   \n",
       "std       12.568973                                       11.919007   \n",
       "min     1960.000000                                        0.000000   \n",
       "25%     1994.000000                                        0.283430   \n",
       "50%     2004.000000                                        3.232097   \n",
       "75%     2011.000000                                       15.187406   \n",
       "max     2019.000000                                       62.280620   \n",
       "\n",
       "       Mobile cellular subscriptions (per 100 people)  \\\n",
       "count                                    11895.000000   \n",
       "mean                                        30.839729   \n",
       "std                                         47.433838   \n",
       "min                                          0.000000   \n",
       "25%                                          0.000000   \n",
       "50%                                          0.365290   \n",
       "75%                                         58.234904   \n",
       "max                                        345.324522   \n",
       "\n",
       "       Individuals using the Internet (% of population)  \\\n",
       "count                                       7119.000000   \n",
       "mean                                          20.958204   \n",
       "std                                           27.437190   \n",
       "min                                            0.000000   \n",
       "25%                                            0.162518   \n",
       "50%                                            6.074087   \n",
       "75%                                           35.864362   \n",
       "max                                           99.701504   \n",
       "\n",
       "       Number of internet users (OWID based on WB & UN)  \n",
       "count                                      4.536000e+03  \n",
       "mean                                       1.363695e+07  \n",
       "std                                        1.233676e+08  \n",
       "min                                        0.000000e+00  \n",
       "25%                                        2.507000e+04  \n",
       "50%                                        2.833990e+05  \n",
       "75%                                        2.916425e+06  \n",
       "max                                        3.419398e+09  "
      ]
     },
     "execution_count": 5,
     "metadata": {},
     "output_type": "execute_result"
    }
   ],
   "source": [
    "final.describe()"
   ]
  },
  {
   "cell_type": "markdown",
   "id": "8b3f126d",
   "metadata": {},
   "source": [
    "## Checking the nulls "
   ]
  },
  {
   "cell_type": "code",
   "execution_count": 6,
   "id": "a26b9336",
   "metadata": {},
   "outputs": [
    {
     "data": {
      "text/plain": [
       "Entity                                                  0\n",
       "Code                                                 4411\n",
       "Year                                                    0\n",
       "Fixed broadband subscriptions (per 100 people)      23550\n",
       "Mobile cellular subscriptions (per 100 people)      15830\n",
       "Individuals using the Internet (% of population)    20606\n",
       "Number of internet users (OWID based on WB & UN)    23189\n",
       "dtype: int64"
      ]
     },
     "execution_count": 6,
     "metadata": {},
     "output_type": "execute_result"
    }
   ],
   "source": [
    "final.isna().sum()"
   ]
  },
  {
   "cell_type": "markdown",
   "id": "5f6b20c5",
   "metadata": {},
   "source": [
    "## Filling the nulls with zero"
   ]
  },
  {
   "cell_type": "code",
   "execution_count": 7,
   "id": "527e60f9",
   "metadata": {},
   "outputs": [],
   "source": [
    "final[\"Fixed broadband subscriptions (per 100 people)\"]=final[\"Fixed broadband subscriptions (per 100 people)\"].fillna(0)"
   ]
  },
  {
   "cell_type": "code",
   "execution_count": 8,
   "id": "95dc580f",
   "metadata": {},
   "outputs": [],
   "source": [
    "final[\"Mobile cellular subscriptions (per 100 people)\"]=final[\"Mobile cellular subscriptions (per 100 people)\"].fillna(0)"
   ]
  },
  {
   "cell_type": "code",
   "execution_count": 9,
   "id": "872e9c91",
   "metadata": {},
   "outputs": [],
   "source": [
    "final[\"Individuals using the Internet (% of population)\"]=final[\"Individuals using the Internet (% of population)\"].fillna(0)"
   ]
  },
  {
   "cell_type": "code",
   "execution_count": 10,
   "id": "13bd65d7",
   "metadata": {},
   "outputs": [],
   "source": [
    "final[\"Number of internet users (OWID based on WB & UN)\"]=final[\"Number of internet users (OWID based on WB & UN)\"].fillna(0)"
   ]
  },
  {
   "cell_type": "markdown",
   "id": "2b76ec63",
   "metadata": {},
   "source": [
    "## Checking the data types "
   ]
  },
  {
   "cell_type": "code",
   "execution_count": 11,
   "id": "0575a463",
   "metadata": {},
   "outputs": [
    {
     "data": {
      "text/plain": [
       "Entity                                               object\n",
       "Code                                                 object\n",
       "Year                                                  int64\n",
       "Fixed broadband subscriptions (per 100 people)      float64\n",
       "Mobile cellular subscriptions (per 100 people)      float64\n",
       "Individuals using the Internet (% of population)    float64\n",
       "Number of internet users (OWID based on WB & UN)    float64\n",
       "dtype: object"
      ]
     },
     "execution_count": 11,
     "metadata": {},
     "output_type": "execute_result"
    }
   ],
   "source": [
    "final.dtypes"
   ]
  },
  {
   "cell_type": "markdown",
   "id": "d03ca1cf",
   "metadata": {},
   "source": [
    "## droping the nulls "
   ]
  },
  {
   "cell_type": "code",
   "execution_count": 12,
   "id": "96bd6d3e",
   "metadata": {},
   "outputs": [],
   "source": [
    "final=final.dropna()"
   ]
  },
  {
   "cell_type": "code",
   "execution_count": 13,
   "id": "9d812ff8",
   "metadata": {},
   "outputs": [
    {
     "data": {
      "text/plain": [
       "Entity                                              0\n",
       "Code                                                0\n",
       "Year                                                0\n",
       "Fixed broadband subscriptions (per 100 people)      0\n",
       "Mobile cellular subscriptions (per 100 people)      0\n",
       "Individuals using the Internet (% of population)    0\n",
       "Number of internet users (OWID based on WB & UN)    0\n",
       "dtype: int64"
      ]
     },
     "execution_count": 13,
     "metadata": {},
     "output_type": "execute_result"
    }
   ],
   "source": [
    "final.isna().sum()"
   ]
  },
  {
   "cell_type": "markdown",
   "id": "900ac129",
   "metadata": {},
   "source": [
    "## Renaming the columns"
   ]
  },
  {
   "cell_type": "code",
   "execution_count": 14,
   "id": "0d4f9dab",
   "metadata": {},
   "outputs": [],
   "source": [
    "final.rename(columns = {'Entity':'Country','Fixed broadband subscriptions (per 100 people)':'Fixed_broadband_subscriptions',\n",
    "                        'Mobile cellular subscriptions (per 100 people)':'Mobile_cellular_subscriptions'\n",
    "                        ,'Individuals using the Internet (% of population)': 'Individuals_using_the_Internet',\n",
    "                        'Number of internet users (OWID based on WB & UN)':'number_of_internet_users'},inplace = True)\n",
    "                    "
   ]
  },
  {
   "cell_type": "code",
   "execution_count": 15,
   "id": "d879ee64",
   "metadata": {},
   "outputs": [
    {
     "data": {
      "text/html": [
       "<div>\n",
       "<style scoped>\n",
       "    .dataframe tbody tr th:only-of-type {\n",
       "        vertical-align: middle;\n",
       "    }\n",
       "\n",
       "    .dataframe tbody tr th {\n",
       "        vertical-align: top;\n",
       "    }\n",
       "\n",
       "    .dataframe thead th {\n",
       "        text-align: right;\n",
       "    }\n",
       "</style>\n",
       "<table border=\"1\" class=\"dataframe\">\n",
       "  <thead>\n",
       "    <tr style=\"text-align: right;\">\n",
       "      <th></th>\n",
       "      <th>Country</th>\n",
       "      <th>Code</th>\n",
       "      <th>Year</th>\n",
       "      <th>Fixed_broadband_subscriptions</th>\n",
       "      <th>Mobile_cellular_subscriptions</th>\n",
       "      <th>Individuals_using_the_Internet</th>\n",
       "      <th>number_of_internet_users</th>\n",
       "    </tr>\n",
       "  </thead>\n",
       "  <tbody>\n",
       "    <tr>\n",
       "      <th>4531</th>\n",
       "      <td>Zimbabwe</td>\n",
       "      <td>ZWE</td>\n",
       "      <td>2012</td>\n",
       "      <td>0.0</td>\n",
       "      <td>0.0</td>\n",
       "      <td>0.0</td>\n",
       "      <td>1765299.0</td>\n",
       "    </tr>\n",
       "    <tr>\n",
       "      <th>4532</th>\n",
       "      <td>Zimbabwe</td>\n",
       "      <td>ZWE</td>\n",
       "      <td>2013</td>\n",
       "      <td>0.0</td>\n",
       "      <td>0.0</td>\n",
       "      <td>0.0</td>\n",
       "      <td>2333448.0</td>\n",
       "    </tr>\n",
       "    <tr>\n",
       "      <th>4533</th>\n",
       "      <td>Zimbabwe</td>\n",
       "      <td>ZWE</td>\n",
       "      <td>2014</td>\n",
       "      <td>0.0</td>\n",
       "      <td>0.0</td>\n",
       "      <td>0.0</td>\n",
       "      <td>2522081.0</td>\n",
       "    </tr>\n",
       "    <tr>\n",
       "      <th>4534</th>\n",
       "      <td>Zimbabwe</td>\n",
       "      <td>ZWE</td>\n",
       "      <td>2015</td>\n",
       "      <td>0.0</td>\n",
       "      <td>0.0</td>\n",
       "      <td>0.0</td>\n",
       "      <td>3588237.0</td>\n",
       "    </tr>\n",
       "    <tr>\n",
       "      <th>4535</th>\n",
       "      <td>Zimbabwe</td>\n",
       "      <td>ZWE</td>\n",
       "      <td>2016</td>\n",
       "      <td>0.0</td>\n",
       "      <td>0.0</td>\n",
       "      <td>0.0</td>\n",
       "      <td>3733962.0</td>\n",
       "    </tr>\n",
       "  </tbody>\n",
       "</table>\n",
       "</div>"
      ],
      "text/plain": [
       "       Country Code  Year  Fixed_broadband_subscriptions  \\\n",
       "4531  Zimbabwe  ZWE  2012                            0.0   \n",
       "4532  Zimbabwe  ZWE  2013                            0.0   \n",
       "4533  Zimbabwe  ZWE  2014                            0.0   \n",
       "4534  Zimbabwe  ZWE  2015                            0.0   \n",
       "4535  Zimbabwe  ZWE  2016                            0.0   \n",
       "\n",
       "      Mobile_cellular_subscriptions  Individuals_using_the_Internet  \\\n",
       "4531                            0.0                             0.0   \n",
       "4532                            0.0                             0.0   \n",
       "4533                            0.0                             0.0   \n",
       "4534                            0.0                             0.0   \n",
       "4535                            0.0                             0.0   \n",
       "\n",
       "      number_of_internet_users  \n",
       "4531                 1765299.0  \n",
       "4532                 2333448.0  \n",
       "4533                 2522081.0  \n",
       "4534                 3588237.0  \n",
       "4535                 3733962.0  "
      ]
     },
     "execution_count": 15,
     "metadata": {},
     "output_type": "execute_result"
    }
   ],
   "source": [
    "final.tail()"
   ]
  },
  {
   "cell_type": "code",
   "execution_count": null,
   "id": "97f9703a",
   "metadata": {},
   "outputs": [],
   "source": []
  },
  {
   "cell_type": "markdown",
   "id": "5b49830f",
   "metadata": {},
   "source": [
    "## DATA VISUALIZATION"
   ]
  },
  {
   "cell_type": "markdown",
   "id": "b7bfb7bb",
   "metadata": {},
   "source": [
    "### TOP 10 NUMBER OF INTERNET USERS IN EACH COUNTRY"
   ]
  },
  {
   "cell_type": "markdown",
   "id": "1a473f27",
   "metadata": {},
   "source": [
    "#### PIVOT TABLE"
   ]
  },
  {
   "cell_type": "code",
   "execution_count": 16,
   "id": "b0839fa6",
   "metadata": {},
   "outputs": [
    {
     "data": {
      "text/html": [
       "<div>\n",
       "<style scoped>\n",
       "    .dataframe tbody tr th:only-of-type {\n",
       "        vertical-align: middle;\n",
       "    }\n",
       "\n",
       "    .dataframe tbody tr th {\n",
       "        vertical-align: top;\n",
       "    }\n",
       "\n",
       "    .dataframe thead th {\n",
       "        text-align: right;\n",
       "    }\n",
       "</style>\n",
       "<table border=\"1\" class=\"dataframe\">\n",
       "  <thead>\n",
       "    <tr style=\"text-align: right;\">\n",
       "      <th></th>\n",
       "      <th>number_of_internet_users</th>\n",
       "    </tr>\n",
       "    <tr>\n",
       "      <th>Country</th>\n",
       "      <th></th>\n",
       "    </tr>\n",
       "  </thead>\n",
       "  <tbody>\n",
       "    <tr>\n",
       "      <th>Belgium</th>\n",
       "      <td>128</td>\n",
       "    </tr>\n",
       "    <tr>\n",
       "      <th>France</th>\n",
       "      <td>128</td>\n",
       "    </tr>\n",
       "    <tr>\n",
       "      <th>Hong Kong</th>\n",
       "      <td>128</td>\n",
       "    </tr>\n",
       "    <tr>\n",
       "      <th>Austria</th>\n",
       "      <td>127</td>\n",
       "    </tr>\n",
       "    <tr>\n",
       "      <th>Japan</th>\n",
       "      <td>127</td>\n",
       "    </tr>\n",
       "    <tr>\n",
       "      <th>Portugal</th>\n",
       "      <td>127</td>\n",
       "    </tr>\n",
       "    <tr>\n",
       "      <th>Mexico</th>\n",
       "      <td>126</td>\n",
       "    </tr>\n",
       "    <tr>\n",
       "      <th>Denmark</th>\n",
       "      <td>126</td>\n",
       "    </tr>\n",
       "    <tr>\n",
       "      <th>South Korea</th>\n",
       "      <td>126</td>\n",
       "    </tr>\n",
       "    <tr>\n",
       "      <th>Finland</th>\n",
       "      <td>126</td>\n",
       "    </tr>\n",
       "  </tbody>\n",
       "</table>\n",
       "</div>"
      ],
      "text/plain": [
       "             number_of_internet_users\n",
       "Country                              \n",
       "Belgium                           128\n",
       "France                            128\n",
       "Hong Kong                         128\n",
       "Austria                           127\n",
       "Japan                             127\n",
       "Portugal                          127\n",
       "Mexico                            126\n",
       "Denmark                           126\n",
       "South Korea                       126\n",
       "Finland                           126"
      ]
     },
     "execution_count": 16,
     "metadata": {},
     "output_type": "execute_result"
    }
   ],
   "source": [
    "number_of_internet_users_by_Country = pd.pivot_table(final, index=\"Country\", values=\"number_of_internet_users\",aggfunc=\"count\").sort_values(by=\"number_of_internet_users\",ascending=False).head(10)\n",
    "number_of_internet_users_by_Country"
   ]
  },
  {
   "cell_type": "code",
   "execution_count": 17,
   "id": "a39c343c",
   "metadata": {},
   "outputs": [
    {
     "data": {
      "image/png": "[encoded data removed]",
      "text/plain": [
       "<Figure size 576x504 with 1 Axes>"
      ]
     },
     "metadata": {
      "needs_background": "light"
     },
     "output_type": "display_data"
    }
   ],
   "source": [
    "plt.figure(figsize=(8,7))\n",
    "plt.title(\"Number of internet users by Country\")\n",
    "sns.barplot(x=number_of_internet_users_by_Country.index,y= number_of_internet_users_by_Country[\"number_of_internet_users\"])\n",
    "plt.xticks(rotation=45)\n",
    "plt.show()"
   ]
  },
  {
   "cell_type": "markdown",
   "id": "01e1f8b0",
   "metadata": {},
   "source": [
    "##  TOP 10 Fixed_broadband_subscriptions per 100 people From 2010 - 2019"
   ]
  },
  {
   "cell_type": "markdown",
   "id": "3d406cd6",
   "metadata": {},
   "source": [
    "#### PIVOT TABLE"
   ]
  },
  {
   "cell_type": "code",
   "execution_count": 18,
   "id": "d4901d1b",
   "metadata": {},
   "outputs": [
    {
     "data": {
      "text/html": [
       "<div>\n",
       "<style scoped>\n",
       "    .dataframe tbody tr th:only-of-type {\n",
       "        vertical-align: middle;\n",
       "    }\n",
       "\n",
       "    .dataframe tbody tr th {\n",
       "        vertical-align: top;\n",
       "    }\n",
       "\n",
       "    .dataframe thead th {\n",
       "        text-align: right;\n",
       "    }\n",
       "</style>\n",
       "<table border=\"1\" class=\"dataframe\">\n",
       "  <thead>\n",
       "    <tr style=\"text-align: right;\">\n",
       "      <th></th>\n",
       "      <th>Fixed_broadband_subscriptions</th>\n",
       "    </tr>\n",
       "    <tr>\n",
       "      <th>Year</th>\n",
       "      <th></th>\n",
       "    </tr>\n",
       "  </thead>\n",
       "  <tbody>\n",
       "    <tr>\n",
       "      <th>2019</th>\n",
       "      <td>402</td>\n",
       "    </tr>\n",
       "    <tr>\n",
       "      <th>2018</th>\n",
       "      <td>451</td>\n",
       "    </tr>\n",
       "    <tr>\n",
       "      <th>2017</th>\n",
       "      <td>677</td>\n",
       "    </tr>\n",
       "    <tr>\n",
       "      <th>2016</th>\n",
       "      <td>794</td>\n",
       "    </tr>\n",
       "    <tr>\n",
       "      <th>2015</th>\n",
       "      <td>804</td>\n",
       "    </tr>\n",
       "    <tr>\n",
       "      <th>2014</th>\n",
       "      <td>799</td>\n",
       "    </tr>\n",
       "    <tr>\n",
       "      <th>2013</th>\n",
       "      <td>801</td>\n",
       "    </tr>\n",
       "    <tr>\n",
       "      <th>2012</th>\n",
       "      <td>799</td>\n",
       "    </tr>\n",
       "    <tr>\n",
       "      <th>2011</th>\n",
       "      <td>793</td>\n",
       "    </tr>\n",
       "    <tr>\n",
       "      <th>2010</th>\n",
       "      <td>801</td>\n",
       "    </tr>\n",
       "  </tbody>\n",
       "</table>\n",
       "</div>"
      ],
      "text/plain": [
       "      Fixed_broadband_subscriptions\n",
       "Year                               \n",
       "2019                            402\n",
       "2018                            451\n",
       "2017                            677\n",
       "2016                            794\n",
       "2015                            804\n",
       "2014                            799\n",
       "2013                            801\n",
       "2012                            799\n",
       "2011                            793\n",
       "2010                            801"
      ]
     },
     "execution_count": 18,
     "metadata": {},
     "output_type": "execute_result"
    }
   ],
   "source": [
    "Fixed_broadband_subscriptions_by_year= pd.pivot_table(final, index=\"Year\", values=\"Fixed_broadband_subscriptions\",aggfunc=\"count\").sort_values(by=\"Year\",ascending=False).head(10)\n",
    "Fixed_broadband_subscriptions_by_year"
   ]
  },
  {
   "cell_type": "code",
   "execution_count": 19,
   "id": "bf9bcb00",
   "metadata": {},
   "outputs": [
    {
     "data": {
      "image/png": "[encoded data removed]",
      "text/plain": [
       "<Figure size 576x504 with 1 Axes>"
      ]
     },
     "metadata": {
      "needs_background": "light"
     },
     "output_type": "display_data"
    }
   ],
   "source": [
    "plt.figure(figsize=(8,7))\n",
    "plt.title(\"Fixed Broadband Subscriptions Per 100 People\")\n",
    "sns.barplot(x=Fixed_broadband_subscriptions_by_year.index,y= Fixed_broadband_subscriptions_by_year[\"Fixed_broadband_subscriptions\"])\n",
    "plt.xticks(rotation=45)\n",
    "plt.show()"
   ]
  },
  {
   "cell_type": "markdown",
   "id": "b6c9e2c0",
   "metadata": {},
   "source": [
    "##  TOP 10 Mobile cellular Subscriptions per 100 people From 2007 to 2015"
   ]
  },
  {
   "cell_type": "markdown",
   "id": "fea8c4dd",
   "metadata": {},
   "source": [
    "#### PIVOT TABLE"
   ]
  },
  {
   "cell_type": "code",
   "execution_count": 20,
   "id": "c41705e9",
   "metadata": {},
   "outputs": [
    {
     "data": {
      "text/html": [
       "<div>\n",
       "<style scoped>\n",
       "    .dataframe tbody tr th:only-of-type {\n",
       "        vertical-align: middle;\n",
       "    }\n",
       "\n",
       "    .dataframe tbody tr th {\n",
       "        vertical-align: top;\n",
       "    }\n",
       "\n",
       "    .dataframe thead th {\n",
       "        text-align: right;\n",
       "    }\n",
       "</style>\n",
       "<table border=\"1\" class=\"dataframe\">\n",
       "  <thead>\n",
       "    <tr style=\"text-align: right;\">\n",
       "      <th></th>\n",
       "      <th>Mobile_cellular_subscriptions</th>\n",
       "    </tr>\n",
       "    <tr>\n",
       "      <th>Year</th>\n",
       "      <th></th>\n",
       "    </tr>\n",
       "  </thead>\n",
       "  <tbody>\n",
       "    <tr>\n",
       "      <th>2015</th>\n",
       "      <td>804</td>\n",
       "    </tr>\n",
       "    <tr>\n",
       "      <th>2013</th>\n",
       "      <td>801</td>\n",
       "    </tr>\n",
       "    <tr>\n",
       "      <th>2010</th>\n",
       "      <td>801</td>\n",
       "    </tr>\n",
       "    <tr>\n",
       "      <th>2012</th>\n",
       "      <td>799</td>\n",
       "    </tr>\n",
       "    <tr>\n",
       "      <th>2014</th>\n",
       "      <td>799</td>\n",
       "    </tr>\n",
       "    <tr>\n",
       "      <th>2016</th>\n",
       "      <td>794</td>\n",
       "    </tr>\n",
       "    <tr>\n",
       "      <th>2011</th>\n",
       "      <td>793</td>\n",
       "    </tr>\n",
       "    <tr>\n",
       "      <th>2009</th>\n",
       "      <td>791</td>\n",
       "    </tr>\n",
       "    <tr>\n",
       "      <th>2008</th>\n",
       "      <td>787</td>\n",
       "    </tr>\n",
       "    <tr>\n",
       "      <th>2007</th>\n",
       "      <td>783</td>\n",
       "    </tr>\n",
       "  </tbody>\n",
       "</table>\n",
       "</div>"
      ],
      "text/plain": [
       "      Mobile_cellular_subscriptions\n",
       "Year                               \n",
       "2015                            804\n",
       "2013                            801\n",
       "2010                            801\n",
       "2012                            799\n",
       "2014                            799\n",
       "2016                            794\n",
       "2011                            793\n",
       "2009                            791\n",
       "2008                            787\n",
       "2007                            783"
      ]
     },
     "execution_count": 20,
     "metadata": {},
     "output_type": "execute_result"
    }
   ],
   "source": [
    "Mobile_cellular_subscriptions= pd.pivot_table(final, index=\"Year\", values=\"Mobile_cellular_subscriptions\",aggfunc=\"count\").sort_values(by=\"Mobile_cellular_subscriptions\",ascending=False).head(10)\n",
    "Mobile_cellular_subscriptions"
   ]
  },
  {
   "cell_type": "code",
   "execution_count": 21,
   "id": "3dfd2c0f",
   "metadata": {},
   "outputs": [
    {
     "data": {
      "image/png": "[encoded data removed]",
      "text/plain": [
       "<Figure size 576x504 with 1 Axes>"
      ]
     },
     "metadata": {
      "needs_background": "light"
     },
     "output_type": "display_data"
    }
   ],
   "source": [
    "plt.figure(figsize=(8,7))\n",
    "plt.title(\"Mobile Cellular Subscriptions\")\n",
    "sns.lineplot(x=Mobile_cellular_subscriptions.index,y= Mobile_cellular_subscriptions[\"Mobile_cellular_subscriptions\"])\n",
    "plt.xticks(rotation=45)\n",
    "plt.show()"
   ]
  },
  {
   "cell_type": "markdown",
   "id": "2bd45ed1",
   "metadata": {},
   "source": [
    "##  Sum of Mobile cellular subscriptions  For  Top  10 Countries"
   ]
  },
  {
   "cell_type": "markdown",
   "id": "4c90daf8",
   "metadata": {},
   "source": [
    "#### PIVOT TABLE"
   ]
  },
  {
   "cell_type": "code",
   "execution_count": 22,
   "id": "d7530bdb",
   "metadata": {},
   "outputs": [
    {
     "data": {
      "text/html": [
       "<div>\n",
       "<style scoped>\n",
       "    .dataframe tbody tr th:only-of-type {\n",
       "        vertical-align: middle;\n",
       "    }\n",
       "\n",
       "    .dataframe tbody tr th {\n",
       "        vertical-align: top;\n",
       "    }\n",
       "\n",
       "    .dataframe thead th {\n",
       "        text-align: right;\n",
       "    }\n",
       "</style>\n",
       "<table border=\"1\" class=\"dataframe\">\n",
       "  <thead>\n",
       "    <tr style=\"text-align: right;\">\n",
       "      <th></th>\n",
       "      <th>Mobile_cellular_subscriptions</th>\n",
       "    </tr>\n",
       "    <tr>\n",
       "      <th>Country</th>\n",
       "      <th></th>\n",
       "    </tr>\n",
       "  </thead>\n",
       "  <tbody>\n",
       "    <tr>\n",
       "      <th>Hong Kong</th>\n",
       "      <td>3891.188234</td>\n",
       "    </tr>\n",
       "    <tr>\n",
       "      <th>Macao</th>\n",
       "      <td>3845.212784</td>\n",
       "    </tr>\n",
       "    <tr>\n",
       "      <th>United Arab Emirates</th>\n",
       "      <td>2819.279494</td>\n",
       "    </tr>\n",
       "    <tr>\n",
       "      <th>Italy</th>\n",
       "      <td>2806.891147</td>\n",
       "    </tr>\n",
       "    <tr>\n",
       "      <th>Finland</th>\n",
       "      <td>2711.922040</td>\n",
       "    </tr>\n",
       "    <tr>\n",
       "      <th>Luxembourg</th>\n",
       "      <td>2711.476689</td>\n",
       "    </tr>\n",
       "    <tr>\n",
       "      <th>Singapore</th>\n",
       "      <td>2644.575012</td>\n",
       "    </tr>\n",
       "    <tr>\n",
       "      <th>Austria</th>\n",
       "      <td>2562.081086</td>\n",
       "    </tr>\n",
       "    <tr>\n",
       "      <th>Lithuania</th>\n",
       "      <td>2554.457721</td>\n",
       "    </tr>\n",
       "    <tr>\n",
       "      <th>Israel</th>\n",
       "      <td>2531.154710</td>\n",
       "    </tr>\n",
       "  </tbody>\n",
       "</table>\n",
       "</div>"
      ],
      "text/plain": [
       "                      Mobile_cellular_subscriptions\n",
       "Country                                            \n",
       "Hong Kong                               3891.188234\n",
       "Macao                                   3845.212784\n",
       "United Arab Emirates                    2819.279494\n",
       "Italy                                   2806.891147\n",
       "Finland                                 2711.922040\n",
       "Luxembourg                              2711.476689\n",
       "Singapore                               2644.575012\n",
       "Austria                                 2562.081086\n",
       "Lithuania                               2554.457721\n",
       "Israel                                  2531.154710"
      ]
     },
     "execution_count": 22,
     "metadata": {},
     "output_type": "execute_result"
    }
   ],
   "source": [
    "Mobile_cellular_subscriptions_1= pd.pivot_table(final, index=\"Country\", values=\"Mobile_cellular_subscriptions\",aggfunc=\"sum\").sort_values(by=\"Mobile_cellular_subscriptions\",ascending=False).head(10)\n",
    "Mobile_cellular_subscriptions_1"
   ]
  },
  {
   "cell_type": "code",
   "execution_count": 23,
   "id": "df479dc1",
   "metadata": {},
   "outputs": [
    {
     "data": {
      "image/png": "[encoded data removed]",
      "text/plain": [
       "<Figure size 576x504 with 1 Axes>"
      ]
     },
     "metadata": {
      "needs_background": "light"
     },
     "output_type": "display_data"
    }
   ],
   "source": [
    "plt.figure(figsize=(8,7))\n",
    "plt.title(\"Mobile Cellular Subscriptions\")\n",
    "sns.barplot(x=Mobile_cellular_subscriptions_1.index,y= Mobile_cellular_subscriptions_1[\"Mobile_cellular_subscriptions\"])\n",
    "plt.xticks(rotation=45)\n",
    "plt.show()"
   ]
  },
  {
   "cell_type": "markdown",
   "id": "713505bf",
   "metadata": {},
   "source": [
    "## Share of the population using the internet (% of population)\n"
   ]
  },
  {
   "cell_type": "markdown",
   "id": "ea8de813",
   "metadata": {},
   "source": [
    "#### PIVOT TABLE"
   ]
  },
  {
   "cell_type": "code",
   "execution_count": 24,
   "id": "652fee15",
   "metadata": {},
   "outputs": [],
   "source": [
    "# Individuals_using_the_Internet= pd.pivot_table(final, index=\"Year\", values=\"Individuals_using_the_Internet\",aggfunc=\"sum\").sort_values(by=\"Individuals_using_the_Internet\",ascending=False).head(10)\n",
    "# Individuals_using_the_Internet"
   ]
  },
  {
   "cell_type": "code",
   "execution_count": 25,
   "id": "9b25337f",
   "metadata": {},
   "outputs": [],
   "source": [
    "Individuals_using_the_Internet=final.groupby([\"Year\"]).agg({\"Individuals_using_the_Internet\" : \"sum\"})[[\"Individuals_using_the_Internet\"]].apply(lambda x: 100*x/x.sum()).sort_values(by=\"Individuals_using_the_Internet\", ascending=False).head(10)"
   ]
  },
  {
   "cell_type": "code",
   "execution_count": 26,
   "id": "c4a818f2",
   "metadata": {},
   "outputs": [
    {
     "data": {
      "text/html": [
       "<div>\n",
       "<style scoped>\n",
       "    .dataframe tbody tr th:only-of-type {\n",
       "        vertical-align: middle;\n",
       "    }\n",
       "\n",
       "    .dataframe tbody tr th {\n",
       "        vertical-align: top;\n",
       "    }\n",
       "\n",
       "    .dataframe thead th {\n",
       "        text-align: right;\n",
       "    }\n",
       "</style>\n",
       "<table border=\"1\" class=\"dataframe\">\n",
       "  <thead>\n",
       "    <tr style=\"text-align: right;\">\n",
       "      <th></th>\n",
       "      <th>Individuals_using_the_Internet</th>\n",
       "    </tr>\n",
       "    <tr>\n",
       "      <th>Year</th>\n",
       "      <th></th>\n",
       "    </tr>\n",
       "  </thead>\n",
       "  <tbody>\n",
       "    <tr>\n",
       "      <th>2017</th>\n",
       "      <td>8.792639</td>\n",
       "    </tr>\n",
       "    <tr>\n",
       "      <th>2016</th>\n",
       "      <td>8.245493</td>\n",
       "    </tr>\n",
       "    <tr>\n",
       "      <th>2015</th>\n",
       "      <td>7.783266</td>\n",
       "    </tr>\n",
       "    <tr>\n",
       "      <th>2014</th>\n",
       "      <td>7.266454</td>\n",
       "    </tr>\n",
       "    <tr>\n",
       "      <th>2013</th>\n",
       "      <td>6.842276</td>\n",
       "    </tr>\n",
       "    <tr>\n",
       "      <th>2012</th>\n",
       "      <td>6.444189</td>\n",
       "    </tr>\n",
       "    <tr>\n",
       "      <th>2011</th>\n",
       "      <td>6.052053</td>\n",
       "    </tr>\n",
       "    <tr>\n",
       "      <th>2010</th>\n",
       "      <td>5.518005</td>\n",
       "    </tr>\n",
       "    <tr>\n",
       "      <th>2018</th>\n",
       "      <td>5.058409</td>\n",
       "    </tr>\n",
       "    <tr>\n",
       "      <th>2009</th>\n",
       "      <td>5.017544</td>\n",
       "    </tr>\n",
       "  </tbody>\n",
       "</table>\n",
       "</div>"
      ],
      "text/plain": [
       "      Individuals_using_the_Internet\n",
       "Year                                \n",
       "2017                        8.792639\n",
       "2016                        8.245493\n",
       "2015                        7.783266\n",
       "2014                        7.266454\n",
       "2013                        6.842276\n",
       "2012                        6.444189\n",
       "2011                        6.052053\n",
       "2010                        5.518005\n",
       "2018                        5.058409\n",
       "2009                        5.017544"
      ]
     },
     "execution_count": 26,
     "metadata": {},
     "output_type": "execute_result"
    }
   ],
   "source": [
    "Individuals_using_the_Internet"
   ]
  },
  {
   "cell_type": "code",
   "execution_count": 27,
   "id": "55167eb3",
   "metadata": {},
   "outputs": [
    {
     "data": {
      "image/png": "[encoded data removed]",
      "text/plain": [
       "<Figure size 576x504 with 1 Axes>"
      ]
     },
     "metadata": {
      "needs_background": "light"
     },
     "output_type": "display_data"
    }
   ],
   "source": [
    "plt.figure(figsize=(8,7))\n",
    "plt.title(\"Individuals_using_the_Internet\")\n",
    "sns.lineplot(x=Individuals_using_the_Internet.index,y= Individuals_using_the_Internet[\"Individuals_using_the_Internet\"])\n",
    "plt.xticks(rotation=45)\n",
    "plt.show()"
   ]
  },
  {
   "cell_type": "markdown",
   "id": "c3bd5ec8",
   "metadata": {},
   "source": [
    "## CHANGE IN PERCENTAGE FOR INTERNET USAGE FROM 2000 TO 2019 "
   ]
  },
  {
   "cell_type": "code",
   "execution_count": 28,
   "id": "3ff3dea9",
   "metadata": {},
   "outputs": [],
   "source": [
    "final_1= final[final['Year'].isin([2000,2019])]"
   ]
  },
  {
   "cell_type": "code",
   "execution_count": 29,
   "id": "6ec6ed43",
   "metadata": {},
   "outputs": [
    {
     "data": {
      "text/html": [
       "<div>\n",
       "<style scoped>\n",
       "    .dataframe tbody tr th:only-of-type {\n",
       "        vertical-align: middle;\n",
       "    }\n",
       "\n",
       "    .dataframe tbody tr th {\n",
       "        vertical-align: top;\n",
       "    }\n",
       "\n",
       "    .dataframe thead th {\n",
       "        text-align: right;\n",
       "    }\n",
       "</style>\n",
       "<table border=\"1\" class=\"dataframe\">\n",
       "  <thead>\n",
       "    <tr style=\"text-align: right;\">\n",
       "      <th></th>\n",
       "      <th>Country</th>\n",
       "      <th>Code</th>\n",
       "      <th>Year</th>\n",
       "      <th>Fixed_broadband_subscriptions</th>\n",
       "      <th>Mobile_cellular_subscriptions</th>\n",
       "      <th>Individuals_using_the_Internet</th>\n",
       "      <th>number_of_internet_users</th>\n",
       "    </tr>\n",
       "  </thead>\n",
       "  <tbody>\n",
       "    <tr>\n",
       "      <th>14</th>\n",
       "      <td>Afghanistan</td>\n",
       "      <td>AFG</td>\n",
       "      <td>2019</td>\n",
       "      <td>0.051741</td>\n",
       "      <td>0.0</td>\n",
       "      <td>0.0</td>\n",
       "      <td>0.0</td>\n",
       "    </tr>\n",
       "    <tr>\n",
       "      <th>56</th>\n",
       "      <td>Albania</td>\n",
       "      <td>ALB</td>\n",
       "      <td>2019</td>\n",
       "      <td>15.140735</td>\n",
       "      <td>0.0</td>\n",
       "      <td>0.0</td>\n",
       "      <td>0.0</td>\n",
       "    </tr>\n",
       "    <tr>\n",
       "      <th>73</th>\n",
       "      <td>Algeria</td>\n",
       "      <td>DZA</td>\n",
       "      <td>2019</td>\n",
       "      <td>8.321684</td>\n",
       "      <td>0.0</td>\n",
       "      <td>0.0</td>\n",
       "      <td>0.0</td>\n",
       "    </tr>\n",
       "    <tr>\n",
       "      <th>91</th>\n",
       "      <td>Andorra</td>\n",
       "      <td>AND</td>\n",
       "      <td>2019</td>\n",
       "      <td>47.131264</td>\n",
       "      <td>0.0</td>\n",
       "      <td>0.0</td>\n",
       "      <td>0.0</td>\n",
       "    </tr>\n",
       "    <tr>\n",
       "      <th>105</th>\n",
       "      <td>Angola</td>\n",
       "      <td>AGO</td>\n",
       "      <td>2019</td>\n",
       "      <td>0.374130</td>\n",
       "      <td>0.0</td>\n",
       "      <td>0.0</td>\n",
       "      <td>0.0</td>\n",
       "    </tr>\n",
       "    <tr>\n",
       "      <th>...</th>\n",
       "      <td>...</td>\n",
       "      <td>...</td>\n",
       "      <td>...</td>\n",
       "      <td>...</td>\n",
       "      <td>...</td>\n",
       "      <td>...</td>\n",
       "      <td>...</td>\n",
       "    </tr>\n",
       "    <tr>\n",
       "      <th>4424</th>\n",
       "      <td>Vietnam</td>\n",
       "      <td>VNM</td>\n",
       "      <td>2000</td>\n",
       "      <td>0.000000</td>\n",
       "      <td>0.0</td>\n",
       "      <td>0.0</td>\n",
       "      <td>204125.0</td>\n",
       "    </tr>\n",
       "    <tr>\n",
       "      <th>4449</th>\n",
       "      <td>World</td>\n",
       "      <td>OWID_WRL</td>\n",
       "      <td>2000</td>\n",
       "      <td>0.000000</td>\n",
       "      <td>0.0</td>\n",
       "      <td>0.0</td>\n",
       "      <td>414371966.0</td>\n",
       "    </tr>\n",
       "    <tr>\n",
       "      <th>4471</th>\n",
       "      <td>Yemen</td>\n",
       "      <td>YEM</td>\n",
       "      <td>2000</td>\n",
       "      <td>0.000000</td>\n",
       "      <td>0.0</td>\n",
       "      <td>0.0</td>\n",
       "      <td>14747.0</td>\n",
       "    </tr>\n",
       "    <tr>\n",
       "      <th>4495</th>\n",
       "      <td>Zambia</td>\n",
       "      <td>ZMB</td>\n",
       "      <td>2000</td>\n",
       "      <td>0.000000</td>\n",
       "      <td>0.0</td>\n",
       "      <td>0.0</td>\n",
       "      <td>20122.0</td>\n",
       "    </tr>\n",
       "    <tr>\n",
       "      <th>4519</th>\n",
       "      <td>Zimbabwe</td>\n",
       "      <td>ZWE</td>\n",
       "      <td>2000</td>\n",
       "      <td>0.000000</td>\n",
       "      <td>0.0</td>\n",
       "      <td>0.0</td>\n",
       "      <td>49064.0</td>\n",
       "    </tr>\n",
       "  </tbody>\n",
       "</table>\n",
       "<p>1032 rows × 7 columns</p>\n",
       "</div>"
      ],
      "text/plain": [
       "          Country      Code  Year  Fixed_broadband_subscriptions  \\\n",
       "14    Afghanistan       AFG  2019                       0.051741   \n",
       "56        Albania       ALB  2019                      15.140735   \n",
       "73        Algeria       DZA  2019                       8.321684   \n",
       "91        Andorra       AND  2019                      47.131264   \n",
       "105        Angola       AGO  2019                       0.374130   \n",
       "...           ...       ...   ...                            ...   \n",
       "4424      Vietnam       VNM  2000                       0.000000   \n",
       "4449        World  OWID_WRL  2000                       0.000000   \n",
       "4471        Yemen       YEM  2000                       0.000000   \n",
       "4495       Zambia       ZMB  2000                       0.000000   \n",
       "4519     Zimbabwe       ZWE  2000                       0.000000   \n",
       "\n",
       "      Mobile_cellular_subscriptions  Individuals_using_the_Internet  \\\n",
       "14                              0.0                             0.0   \n",
       "56                              0.0                             0.0   \n",
       "73                              0.0                             0.0   \n",
       "91                              0.0                             0.0   \n",
       "105                             0.0                             0.0   \n",
       "...                             ...                             ...   \n",
       "4424                            0.0                             0.0   \n",
       "4449                            0.0                             0.0   \n",
       "4471                            0.0                             0.0   \n",
       "4495                            0.0                             0.0   \n",
       "4519                            0.0                             0.0   \n",
       "\n",
       "      number_of_internet_users  \n",
       "14                         0.0  \n",
       "56                         0.0  \n",
       "73                         0.0  \n",
       "91                         0.0  \n",
       "105                        0.0  \n",
       "...                        ...  \n",
       "4424                  204125.0  \n",
       "4449               414371966.0  \n",
       "4471                   14747.0  \n",
       "4495                   20122.0  \n",
       "4519                   49064.0  \n",
       "\n",
       "[1032 rows x 7 columns]"
      ]
     },
     "execution_count": 29,
     "metadata": {},
     "output_type": "execute_result"
    }
   ],
   "source": [
    "final_1"
   ]
  },
  {
   "cell_type": "markdown",
   "id": "0dcc5ace",
   "metadata": {},
   "source": [
    "#### PIVOT TABLE"
   ]
  },
  {
   "cell_type": "code",
   "execution_count": 30,
   "id": "3a8f7c6c",
   "metadata": {},
   "outputs": [
    {
     "data": {
      "text/html": [
       "<div>\n",
       "<style scoped>\n",
       "    .dataframe tbody tr th:only-of-type {\n",
       "        vertical-align: middle;\n",
       "    }\n",
       "\n",
       "    .dataframe tbody tr th {\n",
       "        vertical-align: top;\n",
       "    }\n",
       "\n",
       "    .dataframe thead th {\n",
       "        text-align: right;\n",
       "    }\n",
       "</style>\n",
       "<table border=\"1\" class=\"dataframe\">\n",
       "  <thead>\n",
       "    <tr style=\"text-align: right;\">\n",
       "      <th></th>\n",
       "      <th>Individuals_using_the_Internet</th>\n",
       "    </tr>\n",
       "    <tr>\n",
       "      <th>Year</th>\n",
       "      <th></th>\n",
       "    </tr>\n",
       "  </thead>\n",
       "  <tbody>\n",
       "    <tr>\n",
       "      <th>2019</th>\n",
       "      <td>402</td>\n",
       "    </tr>\n",
       "    <tr>\n",
       "      <th>2000</th>\n",
       "      <td>630</td>\n",
       "    </tr>\n",
       "  </tbody>\n",
       "</table>\n",
       "</div>"
      ],
      "text/plain": [
       "      Individuals_using_the_Internet\n",
       "Year                                \n",
       "2019                             402\n",
       "2000                             630"
      ]
     },
     "execution_count": 30,
     "metadata": {},
     "output_type": "execute_result"
    }
   ],
   "source": [
    "Individuals_using_the_Internet_1= pd.pivot_table(final_1, index=\"Year\", values=\"Individuals_using_the_Internet\",aggfunc=\"count\").sort_values(by=\"Year\",ascending=False)\n",
    "Individuals_using_the_Internet_1"
   ]
  },
  {
   "cell_type": "code",
   "execution_count": 31,
   "id": "ff0583c3",
   "metadata": {
    "scrolled": true
   },
   "outputs": [
    {
     "data": {
      "image/png": "[encoded data removed]",
      "text/plain": [
       "<Figure size 576x504 with 1 Axes>"
      ]
     },
     "metadata": {
      "needs_background": "light"
     },
     "output_type": "display_data"
    }
   ],
   "source": [
    "plt.figure(figsize=(8,7))\n",
    "plt.title(\"Individuals_using_the_Internet\")\n",
    "sns.barplot(x=Individuals_using_the_Internet_1.index,y= Individuals_using_the_Internet_1[\"Individuals_using_the_Internet\"])\n",
    "plt.xticks(rotation=45)\n",
    "plt.show()"
   ]
  },
  {
   "cell_type": "code",
   "execution_count": 35,
   "id": "a6717d2c",
   "metadata": {},
   "outputs": [],
   "source": [
    "final.to_csv('new_file.csv')"
   ]
  },
  {
   "cell_type": "code",
   "execution_count": null,
   "id": "85313d45",
   "metadata": {},
   "outputs": [],
   "source": []
  },
  {
   "cell_type": "code",
   "execution_count": null,
   "id": "20878b37",
   "metadata": {},
   "outputs": [],
   "source": []
  },
  {
   "cell_type": "code",
   "execution_count": null,
   "id": "08e4b86d",
   "metadata": {},
   "outputs": [],
   "source": []
  }
 ],
 "metadata": {
  "kernelspec": {
   "display_name": "Python 3 (ipykernel)",
   "language": "python",
   "name": "python3"
  },
  "language_info": {
   "codemirror_mode": {
    "name": "ipython",
    "version": 3
   },
   "file_extension": ".py",
   "mimetype": "text/x-python",
   "name": "python",
   "nbconvert_exporter": "python",
   "pygments_lexer": "ipython3",
   "version": "3.9.12"
  }
 },
 "nbformat": 4,
 "nbformat_minor": 5
}
